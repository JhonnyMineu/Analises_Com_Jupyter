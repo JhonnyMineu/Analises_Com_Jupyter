{
 "cells": [
  {
   "cell_type": "markdown",
   "id": "be09cd7e",
   "metadata": {},
   "source": [
    "## Análise exploratória com dados do setor elétrico ##"
   ]
  },
  {
   "cell_type": "code",
   "execution_count": 1,
   "id": "ddf4db47",
   "metadata": {},
   "outputs": [],
   "source": [
    "# Importando as bibliotecas que serão utilizadas na análise\n",
    "\n",
    "import pandas as pd\n",
    "import numpy as np\n",
    "import matplotlib.pyplot as plt"
   ]
  },
  {
   "cell_type": "code",
   "execution_count": 2,
   "id": "c6b6e938",
   "metadata": {},
   "outputs": [
    {
     "data": {
      "text/html": [
       "<div>\n",
       "<style scoped>\n",
       "    .dataframe tbody tr th:only-of-type {\n",
       "        vertical-align: middle;\n",
       "    }\n",
       "\n",
       "    .dataframe tbody tr th {\n",
       "        vertical-align: top;\n",
       "    }\n",
       "\n",
       "    .dataframe thead th {\n",
       "        text-align: right;\n",
       "    }\n",
       "</style>\n",
       "<table border=\"1\" class=\"dataframe\">\n",
       "  <thead>\n",
       "    <tr style=\"text-align: right;\">\n",
       "      <th></th>\n",
       "      <th>ideTarifaMediaFornecimento</th>\n",
       "      <th>nomClasseConsumo</th>\n",
       "      <th>nomRegiao</th>\n",
       "      <th>vlrConsumoMWh</th>\n",
       "      <th>mesReferencia</th>\n",
       "      <th>anoReferencia</th>\n",
       "      <th>dthProcessamento</th>\n",
       "    </tr>\n",
       "  </thead>\n",
       "  <tbody>\n",
       "    <tr>\n",
       "      <th>0</th>\n",
       "      <td>1</td>\n",
       "      <td>Comercial e Serviços e Outras</td>\n",
       "      <td>Brasil</td>\n",
       "      <td>434.27</td>\n",
       "      <td>12</td>\n",
       "      <td>2016</td>\n",
       "      <td>13/09/2017 00:00:00</td>\n",
       "    </tr>\n",
       "    <tr>\n",
       "      <th>1</th>\n",
       "      <td>2</td>\n",
       "      <td>Comercial e Serviços e Outras</td>\n",
       "      <td>Brasil</td>\n",
       "      <td>449.36</td>\n",
       "      <td>9</td>\n",
       "      <td>2016</td>\n",
       "      <td>13/09/2017 00:00:00</td>\n",
       "    </tr>\n",
       "    <tr>\n",
       "      <th>2</th>\n",
       "      <td>3</td>\n",
       "      <td>Comercial e Serviços e Outras</td>\n",
       "      <td>Centro-Oeste</td>\n",
       "      <td>452.17</td>\n",
       "      <td>12</td>\n",
       "      <td>2016</td>\n",
       "      <td>13/09/2017 00:00:00</td>\n",
       "    </tr>\n",
       "    <tr>\n",
       "      <th>3</th>\n",
       "      <td>4</td>\n",
       "      <td>Comercial e Serviços e Outras</td>\n",
       "      <td>Centro-Oeste</td>\n",
       "      <td>535.42</td>\n",
       "      <td>9</td>\n",
       "      <td>2016</td>\n",
       "      <td>13/09/2017 00:00:00</td>\n",
       "    </tr>\n",
       "    <tr>\n",
       "      <th>4</th>\n",
       "      <td>5</td>\n",
       "      <td>Comercial e Serviços e Outras</td>\n",
       "      <td>Nordeste</td>\n",
       "      <td>415.44</td>\n",
       "      <td>12</td>\n",
       "      <td>2016</td>\n",
       "      <td>13/09/2017 00:00:00</td>\n",
       "    </tr>\n",
       "    <tr>\n",
       "      <th>...</th>\n",
       "      <td>...</td>\n",
       "      <td>...</td>\n",
       "      <td>...</td>\n",
       "      <td>...</td>\n",
       "      <td>...</td>\n",
       "      <td>...</td>\n",
       "      <td>...</td>\n",
       "    </tr>\n",
       "    <tr>\n",
       "      <th>95</th>\n",
       "      <td>96</td>\n",
       "      <td>Comercial, Serviços e Outras</td>\n",
       "      <td>Sudeste</td>\n",
       "      <td>420.78</td>\n",
       "      <td>12</td>\n",
       "      <td>2015</td>\n",
       "      <td>13/09/2017 00:00:00</td>\n",
       "    </tr>\n",
       "    <tr>\n",
       "      <th>96</th>\n",
       "      <td>97</td>\n",
       "      <td>Comercial, Serviços e Outras</td>\n",
       "      <td>Sudeste</td>\n",
       "      <td>460.37</td>\n",
       "      <td>3</td>\n",
       "      <td>2003</td>\n",
       "      <td>13/09/2017 00:00:00</td>\n",
       "    </tr>\n",
       "    <tr>\n",
       "      <th>97</th>\n",
       "      <td>98</td>\n",
       "      <td>Comercial, Serviços e Outras</td>\n",
       "      <td>Sudeste</td>\n",
       "      <td>290.13</td>\n",
       "      <td>3</td>\n",
       "      <td>2012</td>\n",
       "      <td>13/09/2017 00:00:00</td>\n",
       "    </tr>\n",
       "    <tr>\n",
       "      <th>98</th>\n",
       "      <td>99</td>\n",
       "      <td>Comercial, Serviços e Outras</td>\n",
       "      <td>Sudeste</td>\n",
       "      <td>161.39</td>\n",
       "      <td>3</td>\n",
       "      <td>2013</td>\n",
       "      <td>13/09/2017 00:00:00</td>\n",
       "    </tr>\n",
       "    <tr>\n",
       "      <th>99</th>\n",
       "      <td>100</td>\n",
       "      <td>Comercial, Serviços e Outras</td>\n",
       "      <td>Sudeste</td>\n",
       "      <td>267.59</td>\n",
       "      <td>3</td>\n",
       "      <td>2014</td>\n",
       "      <td>13/09/2017 00:00:00</td>\n",
       "    </tr>\n",
       "  </tbody>\n",
       "</table>\n",
       "<p>100 rows × 7 columns</p>\n",
       "</div>"
      ],
      "text/plain": [
       "    ideTarifaMediaFornecimento               nomClasseConsumo     nomRegiao  \\\n",
       "0                            1  Comercial e Serviços e Outras        Brasil   \n",
       "1                            2  Comercial e Serviços e Outras        Brasil   \n",
       "2                            3  Comercial e Serviços e Outras  Centro-Oeste   \n",
       "3                            4  Comercial e Serviços e Outras  Centro-Oeste   \n",
       "4                            5  Comercial e Serviços e Outras      Nordeste   \n",
       "..                         ...                            ...           ...   \n",
       "95                          96   Comercial, Serviços e Outras       Sudeste   \n",
       "96                          97   Comercial, Serviços e Outras       Sudeste   \n",
       "97                          98   Comercial, Serviços e Outras       Sudeste   \n",
       "98                          99   Comercial, Serviços e Outras       Sudeste   \n",
       "99                         100   Comercial, Serviços e Outras       Sudeste   \n",
       "\n",
       "    vlrConsumoMWh  mesReferencia  anoReferencia     dthProcessamento  \n",
       "0          434.27             12           2016  13/09/2017 00:00:00  \n",
       "1          449.36              9           2016  13/09/2017 00:00:00  \n",
       "2          452.17             12           2016  13/09/2017 00:00:00  \n",
       "3          535.42              9           2016  13/09/2017 00:00:00  \n",
       "4          415.44             12           2016  13/09/2017 00:00:00  \n",
       "..            ...            ...            ...                  ...  \n",
       "95         420.78             12           2015  13/09/2017 00:00:00  \n",
       "96         460.37              3           2003  13/09/2017 00:00:00  \n",
       "97         290.13              3           2012  13/09/2017 00:00:00  \n",
       "98         161.39              3           2013  13/09/2017 00:00:00  \n",
       "99         267.59              3           2014  13/09/2017 00:00:00  \n",
       "\n",
       "[100 rows x 7 columns]"
      ]
     },
     "execution_count": 2,
     "metadata": {},
     "output_type": "execute_result"
    }
   ],
   "source": [
    "# Importando o dataset em formato XML do site utilizando o pandas\n",
    "\n",
    "enel = pd.read_xml(\"https://dadosabertos.aneel.gov.br/dataset/46811af6-73da-44cd-93af-3f41f979a609/resource/eb50e422-4f64-47c8-844e-acdacf89d503/download/tarifamediafornecimento.xml\")\n",
    "enel.head(100)"
   ]
  },
  {
   "cell_type": "code",
   "execution_count": 4,
   "id": "32559c6b",
   "metadata": {},
   "outputs": [
    {
     "name": "stdout",
     "output_type": "stream",
     "text": [
      "<class 'pandas.core.frame.DataFrame'>\n",
      "RangeIndex: 2229 entries, 0 to 2228\n",
      "Data columns (total 7 columns):\n",
      " #   Column                      Non-Null Count  Dtype  \n",
      "---  ------                      --------------  -----  \n",
      " 0   ideTarifaMediaFornecimento  2229 non-null   int64  \n",
      " 1   nomClasseConsumo            2229 non-null   object \n",
      " 2   nomRegiao                   2229 non-null   object \n",
      " 3   vlrConsumoMWh               2227 non-null   float64\n",
      " 4   mesReferencia               2229 non-null   int64  \n",
      " 5   anoReferencia               2229 non-null   int64  \n",
      " 6   dthProcessamento            2229 non-null   object \n",
      "dtypes: float64(1), int64(3), object(3)\n",
      "memory usage: 122.0+ KB\n"
     ]
    }
   ],
   "source": [
    "# Entendendo o tamanho do dataset e os tipos de dados de cada coluna\n",
    "\n",
    "enel.info()"
   ]
  },
  {
   "cell_type": "code",
   "execution_count": 5,
   "id": "ead8838f",
   "metadata": {},
   "outputs": [
    {
     "data": {
      "text/plain": [
       "<AxesSubplot:>"
      ]
     },
     "execution_count": 5,
     "metadata": {},
     "output_type": "execute_result"
    },
    {
     "data": {
      "image/png": "[encoded data removed]",
      "text/plain": [
       "<Figure size 432x288 with 1 Axes>"
      ]
     },
     "metadata": {
      "needs_background": "light"
     },
     "output_type": "display_data"
    }
   ],
   "source": [
    "# Verificando a presença de outliers\n",
    "# Aqui pude indentificar a existência de outliers e agora vou tratar eles\n",
    "\n",
    "enel['vlrConsumoMWh'].plot()"
   ]
  },
  {
   "cell_type": "code",
   "execution_count": 6,
   "id": "4a540cf0",
   "metadata": {},
   "outputs": [
    {
     "data": {
      "text/plain": [
       "846.84"
      ]
     },
     "execution_count": 6,
     "metadata": {},
     "output_type": "execute_result"
    }
   ],
   "source": [
    "# Maior outlier:\n",
    "\n",
    "enel['vlrConsumoMWh'].max()"
   ]
  },
  {
   "cell_type": "code",
   "execution_count": 7,
   "id": "3b78cdc6",
   "metadata": {},
   "outputs": [
    {
     "data": {
      "text/plain": [
       "0.0"
      ]
     },
     "execution_count": 7,
     "metadata": {},
     "output_type": "execute_result"
    }
   ],
   "source": [
    "# Menor outlier:\n",
    "\n",
    "enel['vlrConsumoMWh'].min()"
   ]
  },
  {
   "cell_type": "code",
   "execution_count": 8,
   "id": "691c7c5f",
   "metadata": {},
   "outputs": [],
   "source": [
    "media = enel['vlrConsumoMWh'].mean()"
   ]
  },
  {
   "cell_type": "code",
   "execution_count": 9,
   "id": "9e3cc0f9",
   "metadata": {},
   "outputs": [],
   "source": [
    "# Alterei os outliers com valor igual a zero ou bem próximo, que é o caso do 0.42,\n",
    "# pelo valor da média dos valores do consumo, para trazer um equilíbrio aos valores do dataset \n",
    "\n",
    "enel['vlrConsumoMWh'] = enel[\"vlrConsumoMWh\"].replace([0,0.42],media)"
   ]
  },
  {
   "cell_type": "code",
   "execution_count": 10,
   "id": "bf97d9c2",
   "metadata": {},
   "outputs": [
    {
     "data": {
      "text/plain": [
       "78.68"
      ]
     },
     "execution_count": 10,
     "metadata": {},
     "output_type": "execute_result"
    }
   ],
   "source": [
    "enel['vlrConsumoMWh'].min()"
   ]
  },
  {
   "cell_type": "code",
   "execution_count": 11,
   "id": "8c4bc263",
   "metadata": {},
   "outputs": [
    {
     "data": {
      "text/plain": [
       "ideTarifaMediaFornecimento                   2300\n",
       "nomClasseConsumo                 Total por Região\n",
       "nomRegiao                                     Sul\n",
       "vlrConsumoMWh                              846.84\n",
       "mesReferencia                                  12\n",
       "anoReferencia                                2019\n",
       "dthProcessamento              30/09/2019 00:00:00\n",
       "dtype: object"
      ]
     },
     "execution_count": 11,
     "metadata": {},
     "output_type": "execute_result"
    }
   ],
   "source": [
    "# Não alterei o outro outlier porque foi realmente registrado\n",
    "enel.max()"
   ]
  },
  {
   "cell_type": "code",
   "execution_count": 12,
   "id": "006ad97f",
   "metadata": {},
   "outputs": [
    {
     "data": {
      "text/plain": [
       "<AxesSubplot:>"
      ]
     },
     "execution_count": 12,
     "metadata": {},
     "output_type": "execute_result"
    },
    {
     "data": {
      "image/png": "[encoded data removed]",
      "text/plain": [
       "<Figure size 432x288 with 1 Axes>"
      ]
     },
     "metadata": {
      "needs_background": "light"
     },
     "output_type": "display_data"
    }
   ],
   "source": [
    "# Aqui estão nossos valores registrados depois de tratar os outliers\n",
    "enel['vlrConsumoMWh'].plot()"
   ]
  },
  {
   "cell_type": "code",
   "execution_count": 13,
   "id": "c625861c",
   "metadata": {},
   "outputs": [
    {
     "name": "stdout",
     "output_type": "stream",
     "text": [
      "<class 'pandas.core.frame.DataFrame'>\n",
      "RangeIndex: 2229 entries, 0 to 2228\n",
      "Data columns (total 7 columns):\n",
      " #   Column                      Non-Null Count  Dtype \n",
      "---  ------                      --------------  ----- \n",
      " 0   ideTarifaMediaFornecimento  2229 non-null   int64 \n",
      " 1   nomClasseConsumo            2229 non-null   object\n",
      " 2   nomRegiao                   2229 non-null   object\n",
      " 3   vlrConsumoMWh               2229 non-null   object\n",
      " 4   mesReferencia               2229 non-null   int64 \n",
      " 5   anoReferencia               2229 non-null   int64 \n",
      " 6   dthProcessamento            2229 non-null   object\n",
      "dtypes: int64(3), object(4)\n",
      "memory usage: 122.0+ KB\n"
     ]
    }
   ],
   "source": [
    "# Preenchendo os dois valores que estavam vazios na coluna de valor do consumo por MW/h com a média de valor de consumo\n",
    "\n",
    "enel['vlrConsumoMWh'] = enel['vlrConsumoMWh'].fillna(enel['vlrConsumoMWh'].mean)\n",
    "enel.info()"
   ]
  },
  {
   "cell_type": "code",
   "execution_count": 14,
   "id": "21f7c1fc",
   "metadata": {},
   "outputs": [],
   "source": [
    "enel['vlrConsumoMWh'] = pd.to_numeric(enel['vlrConsumoMWh'],errors = 'coerce')"
   ]
  },
  {
   "cell_type": "code",
   "execution_count": 15,
   "id": "30a872c3",
   "metadata": {},
   "outputs": [],
   "source": [
    "enel[['anoReferencia','mesReferencia','ideTarifaMediaFornecimento']] = enel[['anoReferencia','mesReferencia',\n",
    "                                                                             'ideTarifaMediaFornecimento']].astype(str)"
   ]
  },
  {
   "cell_type": "code",
   "execution_count": 16,
   "id": "79452682",
   "metadata": {},
   "outputs": [
    {
     "data": {
      "text/html": [
       "<div>\n",
       "<style scoped>\n",
       "    .dataframe tbody tr th:only-of-type {\n",
       "        vertical-align: middle;\n",
       "    }\n",
       "\n",
       "    .dataframe tbody tr th {\n",
       "        vertical-align: top;\n",
       "    }\n",
       "\n",
       "    .dataframe thead th {\n",
       "        text-align: right;\n",
       "    }\n",
       "</style>\n",
       "<table border=\"1\" class=\"dataframe\">\n",
       "  <thead>\n",
       "    <tr style=\"text-align: right;\">\n",
       "      <th></th>\n",
       "      <th>vlrConsumoMWh</th>\n",
       "    </tr>\n",
       "    <tr>\n",
       "      <th>nomRegiao</th>\n",
       "      <th></th>\n",
       "    </tr>\n",
       "  </thead>\n",
       "  <tbody>\n",
       "    <tr>\n",
       "      <th>Brasil</th>\n",
       "      <td>318.220324</td>\n",
       "    </tr>\n",
       "    <tr>\n",
       "      <th>Centro-Oeste</th>\n",
       "      <td>339.970465</td>\n",
       "    </tr>\n",
       "    <tr>\n",
       "      <th>Nordeste</th>\n",
       "      <td>298.990833</td>\n",
       "    </tr>\n",
       "    <tr>\n",
       "      <th>Norte</th>\n",
       "      <td>353.819238</td>\n",
       "    </tr>\n",
       "    <tr>\n",
       "      <th>Sudeste</th>\n",
       "      <td>333.651478</td>\n",
       "    </tr>\n",
       "    <tr>\n",
       "      <th>Sul</th>\n",
       "      <td>313.901839</td>\n",
       "    </tr>\n",
       "  </tbody>\n",
       "</table>\n",
       "</div>"
      ],
      "text/plain": [
       "              vlrConsumoMWh\n",
       "nomRegiao                  \n",
       "Brasil           318.220324\n",
       "Centro-Oeste     339.970465\n",
       "Nordeste         298.990833\n",
       "Norte            353.819238\n",
       "Sudeste          333.651478\n",
       "Sul              313.901839"
      ]
     },
     "metadata": {},
     "output_type": "display_data"
    }
   ],
   "source": [
    "# Média de valor de consumo em MW/h por cada região\n",
    "\n",
    "enel_gp = enel[[\"nomRegiao\",\"vlrConsumoMWh\"]].groupby('nomRegiao').mean()\n",
    "display(enel_gp)\n"
   ]
  },
  {
   "cell_type": "code",
   "execution_count": 17,
   "id": "dc537b6c",
   "metadata": {},
   "outputs": [
    {
     "data": {
      "text/html": [
       "<div>\n",
       "<style scoped>\n",
       "    .dataframe tbody tr th:only-of-type {\n",
       "        vertical-align: middle;\n",
       "    }\n",
       "\n",
       "    .dataframe tbody tr th {\n",
       "        vertical-align: top;\n",
       "    }\n",
       "\n",
       "    .dataframe thead th {\n",
       "        text-align: right;\n",
       "    }\n",
       "</style>\n",
       "<table border=\"1\" class=\"dataframe\">\n",
       "  <thead>\n",
       "    <tr style=\"text-align: right;\">\n",
       "      <th></th>\n",
       "      <th>vlrConsumoMWh</th>\n",
       "    </tr>\n",
       "    <tr>\n",
       "      <th>nomRegiao</th>\n",
       "      <th></th>\n",
       "    </tr>\n",
       "  </thead>\n",
       "  <tbody>\n",
       "    <tr>\n",
       "      <th>Centro-Oeste</th>\n",
       "      <td>339.970465</td>\n",
       "    </tr>\n",
       "    <tr>\n",
       "      <th>Nordeste</th>\n",
       "      <td>298.990833</td>\n",
       "    </tr>\n",
       "    <tr>\n",
       "      <th>Norte</th>\n",
       "      <td>353.819238</td>\n",
       "    </tr>\n",
       "    <tr>\n",
       "      <th>Sudeste</th>\n",
       "      <td>333.651478</td>\n",
       "    </tr>\n",
       "    <tr>\n",
       "      <th>Sul</th>\n",
       "      <td>313.901839</td>\n",
       "    </tr>\n",
       "  </tbody>\n",
       "</table>\n",
       "</div>"
      ],
      "text/plain": [
       "              vlrConsumoMWh\n",
       "nomRegiao                  \n",
       "Centro-Oeste     339.970465\n",
       "Nordeste         298.990833\n",
       "Norte            353.819238\n",
       "Sudeste          333.651478\n",
       "Sul              313.901839"
      ]
     },
     "metadata": {},
     "output_type": "display_data"
    }
   ],
   "source": [
    "enel_filtrada = enel[[\"nomRegiao\",\"vlrConsumoMWh\"]].query('nomRegiao != \"Brasil\"').groupby(enel['nomRegiao']).mean()\n",
    "display(enel_filtrada)"
   ]
  },
  {
   "cell_type": "code",
   "execution_count": 18,
   "id": "6c8e5945",
   "metadata": {},
   "outputs": [
    {
     "data": {
      "image/png": "[encoded data removed]",
      "text/plain": [
       "<Figure size 504x504 with 1 Axes>"
      ]
     },
     "metadata": {},
     "output_type": "display_data"
    }
   ],
   "source": [
    "# Fazendo a análise do gráfico abaixo, temos como informação que a média de valor de consumo nas regiões do país varia pouco\n",
    "\n",
    "fil = enel_filtrada['vlrConsumoMWh']\n",
    "labels = ['Centro-Oeste','Nordeste','Norte','Sudeste','Sul']\n",
    "\n",
    "plt.figure(figsize=(7,7))\n",
    "plt.title('Média de Consumo x Região')\n",
    "plt.pie(x=fil,labels=labels,autopct='%1.1f%%', shadow=True)\n",
    "plt.show()"
   ]
  },
  {
   "cell_type": "code",
   "execution_count": 19,
   "id": "dfb4ca9a",
   "metadata": {
    "scrolled": false
   },
   "outputs": [
    {
     "data": {
      "text/html": [
       "<div>\n",
       "<style scoped>\n",
       "    .dataframe tbody tr th:only-of-type {\n",
       "        vertical-align: middle;\n",
       "    }\n",
       "\n",
       "    .dataframe tbody tr th {\n",
       "        vertical-align: top;\n",
       "    }\n",
       "\n",
       "    .dataframe thead th {\n",
       "        text-align: right;\n",
       "    }\n",
       "</style>\n",
       "<table border=\"1\" class=\"dataframe\">\n",
       "  <thead>\n",
       "    <tr style=\"text-align: right;\">\n",
       "      <th></th>\n",
       "      <th>vlrConsumoMWh</th>\n",
       "    </tr>\n",
       "    <tr>\n",
       "      <th>anoReferencia</th>\n",
       "      <th></th>\n",
       "    </tr>\n",
       "  </thead>\n",
       "  <tbody>\n",
       "    <tr>\n",
       "      <th>2003</th>\n",
       "      <td>371.572976</td>\n",
       "    </tr>\n",
       "    <tr>\n",
       "      <th>2012</th>\n",
       "      <td>253.224161</td>\n",
       "    </tr>\n",
       "    <tr>\n",
       "      <th>2013</th>\n",
       "      <td>224.143685</td>\n",
       "    </tr>\n",
       "    <tr>\n",
       "      <th>2014</th>\n",
       "      <td>232.417822</td>\n",
       "    </tr>\n",
       "    <tr>\n",
       "      <th>2015</th>\n",
       "      <td>325.803393</td>\n",
       "    </tr>\n",
       "    <tr>\n",
       "      <th>2016</th>\n",
       "      <td>372.710873</td>\n",
       "    </tr>\n",
       "    <tr>\n",
       "      <th>2017</th>\n",
       "      <td>386.375499</td>\n",
       "    </tr>\n",
       "    <tr>\n",
       "      <th>2018</th>\n",
       "      <td>422.146052</td>\n",
       "    </tr>\n",
       "    <tr>\n",
       "      <th>2019</th>\n",
       "      <td>442.923662</td>\n",
       "    </tr>\n",
       "  </tbody>\n",
       "</table>\n",
       "</div>"
      ],
      "text/plain": [
       "               vlrConsumoMWh\n",
       "anoReferencia               \n",
       "2003              371.572976\n",
       "2012              253.224161\n",
       "2013              224.143685\n",
       "2014              232.417822\n",
       "2015              325.803393\n",
       "2016              372.710873\n",
       "2017              386.375499\n",
       "2018              422.146052\n",
       "2019              442.923662"
      ]
     },
     "metadata": {},
     "output_type": "display_data"
    }
   ],
   "source": [
    "# Valor médio de consumo de MW/h por ano \n",
    "\n",
    "ano_vlr = enel[[\"anoReferencia\",\"vlrConsumoMWh\"]].groupby(enel['anoReferencia']).mean()\n",
    "display(ano_vlr)"
   ]
  },
  {
   "cell_type": "code",
   "execution_count": 20,
   "id": "1b077cac",
   "metadata": {},
   "outputs": [
    {
     "data": {
      "image/png": "[encoded data removed]",
      "text/plain": [
       "<Figure size 504x504 with 1 Axes>"
      ]
     },
     "metadata": {
      "needs_background": "light"
     },
     "output_type": "display_data"
    }
   ],
   "source": [
    "# Pode se tirar de informação desse gráfico que desde 2012 a média de valor de consumo está aumentando\n",
    "\n",
    "area_y = ano_vlr['vlrConsumoMWh']\n",
    "area_x = enel['anoReferencia']\n",
    "area_x = np.unique(area_x)\n",
    "\n",
    "plt.figure(figsize=(7,7))\n",
    "plt.title('Média de Consumo x Ano')\n",
    "plt.fill_between(area_x,area_y)\n",
    "\n",
    "plt.show()"
   ]
  },
  {
   "cell_type": "code",
   "execution_count": 21,
   "id": "6f0d5ad4",
   "metadata": {},
   "outputs": [
    {
     "data": {
      "text/html": [
       "<div>\n",
       "<style scoped>\n",
       "    .dataframe tbody tr th:only-of-type {\n",
       "        vertical-align: middle;\n",
       "    }\n",
       "\n",
       "    .dataframe tbody tr th {\n",
       "        vertical-align: top;\n",
       "    }\n",
       "\n",
       "    .dataframe thead th {\n",
       "        text-align: right;\n",
       "    }\n",
       "</style>\n",
       "<table border=\"1\" class=\"dataframe\">\n",
       "  <thead>\n",
       "    <tr style=\"text-align: right;\">\n",
       "      <th></th>\n",
       "      <th>vlrConsumoMWh</th>\n",
       "    </tr>\n",
       "    <tr>\n",
       "      <th>nomClasseConsumo</th>\n",
       "      <th></th>\n",
       "    </tr>\n",
       "  </thead>\n",
       "  <tbody>\n",
       "    <tr>\n",
       "      <th>Comercial e  Serviços e Outras</th>\n",
       "      <td>504.803261</td>\n",
       "    </tr>\n",
       "    <tr>\n",
       "      <th>Comercial e Serviços e Outras</th>\n",
       "      <td>448.585833</td>\n",
       "    </tr>\n",
       "    <tr>\n",
       "      <th>Comercial, Serviços e Outras</th>\n",
       "      <td>323.939841</td>\n",
       "    </tr>\n",
       "    <tr>\n",
       "      <th>Consumo Próprio</th>\n",
       "      <td>389.480161</td>\n",
       "    </tr>\n",
       "    <tr>\n",
       "      <th>Iluminação Pública</th>\n",
       "      <td>245.860699</td>\n",
       "    </tr>\n",
       "    <tr>\n",
       "      <th>Industrial</th>\n",
       "      <td>337.372043</td>\n",
       "    </tr>\n",
       "    <tr>\n",
       "      <th>Poder Público</th>\n",
       "      <td>401.276452</td>\n",
       "    </tr>\n",
       "    <tr>\n",
       "      <th>Residencia</th>\n",
       "      <td>338.312222</td>\n",
       "    </tr>\n",
       "    <tr>\n",
       "      <th>Residencial</th>\n",
       "      <td>438.512193</td>\n",
       "    </tr>\n",
       "    <tr>\n",
       "      <th>Rural</th>\n",
       "      <td>290.290430</td>\n",
       "    </tr>\n",
       "    <tr>\n",
       "      <th>Rural Aquicultor</th>\n",
       "      <td>255.219915</td>\n",
       "    </tr>\n",
       "    <tr>\n",
       "      <th>Rural Irrigante</th>\n",
       "      <td>244.985161</td>\n",
       "    </tr>\n",
       "    <tr>\n",
       "      <th>Serviço Público</th>\n",
       "      <td>232.153431</td>\n",
       "    </tr>\n",
       "    <tr>\n",
       "      <th>Serviço Público (tração elétrica)</th>\n",
       "      <td>324.471292</td>\n",
       "    </tr>\n",
       "    <tr>\n",
       "      <th>Serviço Público (água e  esgoto e saneamento)</th>\n",
       "      <td>387.668542</td>\n",
       "    </tr>\n",
       "    <tr>\n",
       "      <th>Serviço Público (água e esgoto e saneamento)</th>\n",
       "      <td>346.530000</td>\n",
       "    </tr>\n",
       "    <tr>\n",
       "      <th>Serviço Público (água, esgoto e saneamento)</th>\n",
       "      <td>341.759583</td>\n",
       "    </tr>\n",
       "    <tr>\n",
       "      <th>Totais por Região</th>\n",
       "      <td>370.956133</td>\n",
       "    </tr>\n",
       "    <tr>\n",
       "      <th>Total por Região</th>\n",
       "      <td>301.795952</td>\n",
       "    </tr>\n",
       "  </tbody>\n",
       "</table>\n",
       "</div>"
      ],
      "text/plain": [
       "                                               vlrConsumoMWh\n",
       "nomClasseConsumo                                            \n",
       "Comercial e  Serviços e Outras                    504.803261\n",
       "Comercial e Serviços e Outras                     448.585833\n",
       "Comercial, Serviços e Outras                      323.939841\n",
       "Consumo Próprio                                   389.480161\n",
       "Iluminação Pública                                245.860699\n",
       "Industrial                                        337.372043\n",
       "Poder Público                                     401.276452\n",
       "Residencia                                        338.312222\n",
       "Residencial                                       438.512193\n",
       "Rural                                             290.290430\n",
       "Rural Aquicultor                                  255.219915\n",
       "Rural Irrigante                                   244.985161\n",
       "Serviço Público                                   232.153431\n",
       "Serviço Público (tração elétrica)                 324.471292\n",
       "Serviço Público (água e  esgoto e saneamento)     387.668542\n",
       "Serviço Público (água e esgoto e saneamento)      346.530000\n",
       "Serviço Público (água, esgoto e saneamento)       341.759583\n",
       "Totais por Região                                 370.956133\n",
       "Total por Região                                  301.795952"
      ]
     },
     "metadata": {},
     "output_type": "display_data"
    }
   ],
   "source": [
    "# Média de valor de consumo por cada classe\n",
    "# Aqui, pude ver que havia algumas categorias que eram as mesmas, porém, como havia uma diferença na digitação delas,\n",
    "# o programa entendeu como se fossem diferentes\n",
    "\n",
    "classe_filtro = enel[[\"nomClasseConsumo\",\"vlrConsumoMWh\"]].groupby('nomClasseConsumo').mean()\n",
    "display(classe_filtro)"
   ]
  },
  {
   "cell_type": "code",
   "execution_count": 22,
   "id": "6831a054",
   "metadata": {},
   "outputs": [],
   "source": [
    "# Neste código, alterei os nomes que estavam repetitivos e consertei as categorias\n",
    "\n",
    "enel['nomClasseConsumo'] = enel['nomClasseConsumo'].replace(['Totais por Região'],'Total por Região')\n",
    "enel['nomClasseConsumo'] = enel['nomClasseConsumo'].replace(['Serviço Público (água e esgoto e saneamento)'],'Serviço Público (água, esgoto e saneamento)')\n",
    "enel['nomClasseConsumo'] = enel['nomClasseConsumo'].replace(['Serviço Público (água e  esgoto e saneamento)'],'Serviço Público (água, esgoto e saneamento)')\n",
    "enel['nomClasseConsumo'] = enel['nomClasseConsumo'].replace(['Total por Região' 'Comercial e  Serviços e Outras'],'Serviço Público (água, esgoto e saneamento)')\n",
    "enel['nomClasseConsumo'] = enel['nomClasseConsumo'].replace(['Residencia'],'Residencial')\n",
    "enel['nomClasseConsumo'] = enel['nomClasseConsumo'].replace(['Comercial e Serviços e Outras'],'Comercial, Serviços e Outras')\n",
    "enel['nomClasseConsumo'] = enel['nomClasseConsumo'].replace(['Comercial e  Serviços e Outras'],'Comercial, Serviços e Outras')"
   ]
  },
  {
   "cell_type": "code",
   "execution_count": 23,
   "id": "ae4e1f1f",
   "metadata": {},
   "outputs": [
    {
     "data": {
      "text/html": [
       "<div>\n",
       "<style scoped>\n",
       "    .dataframe tbody tr th:only-of-type {\n",
       "        vertical-align: middle;\n",
       "    }\n",
       "\n",
       "    .dataframe tbody tr th {\n",
       "        vertical-align: top;\n",
       "    }\n",
       "\n",
       "    .dataframe thead th {\n",
       "        text-align: right;\n",
       "    }\n",
       "</style>\n",
       "<table border=\"1\" class=\"dataframe\">\n",
       "  <thead>\n",
       "    <tr style=\"text-align: right;\">\n",
       "      <th></th>\n",
       "      <th>vlrConsumoMWh</th>\n",
       "    </tr>\n",
       "    <tr>\n",
       "      <th>nomClasseConsumo</th>\n",
       "      <th></th>\n",
       "    </tr>\n",
       "  </thead>\n",
       "  <tbody>\n",
       "    <tr>\n",
       "      <th>Comercial, Serviços e Outras</th>\n",
       "      <td>377.284783</td>\n",
       "    </tr>\n",
       "    <tr>\n",
       "      <th>Consumo Próprio</th>\n",
       "      <td>389.480161</td>\n",
       "    </tr>\n",
       "    <tr>\n",
       "      <th>Iluminação Pública</th>\n",
       "      <td>245.860699</td>\n",
       "    </tr>\n",
       "    <tr>\n",
       "      <th>Industrial</th>\n",
       "      <td>337.372043</td>\n",
       "    </tr>\n",
       "    <tr>\n",
       "      <th>Poder Público</th>\n",
       "      <td>401.276452</td>\n",
       "    </tr>\n",
       "    <tr>\n",
       "      <th>Residencial</th>\n",
       "      <td>399.725108</td>\n",
       "    </tr>\n",
       "    <tr>\n",
       "      <th>Rural</th>\n",
       "      <td>290.290430</td>\n",
       "    </tr>\n",
       "    <tr>\n",
       "      <th>Rural Aquicultor</th>\n",
       "      <td>255.219915</td>\n",
       "    </tr>\n",
       "    <tr>\n",
       "      <th>Rural Irrigante</th>\n",
       "      <td>244.985161</td>\n",
       "    </tr>\n",
       "    <tr>\n",
       "      <th>Serviço Público</th>\n",
       "      <td>232.153431</td>\n",
       "    </tr>\n",
       "    <tr>\n",
       "      <th>Serviço Público (tração elétrica)</th>\n",
       "      <td>324.471292</td>\n",
       "    </tr>\n",
       "    <tr>\n",
       "      <th>Serviço Público (água, esgoto e saneamento)</th>\n",
       "      <td>368.674762</td>\n",
       "    </tr>\n",
       "    <tr>\n",
       "      <th>Total por Região</th>\n",
       "      <td>357.570292</td>\n",
       "    </tr>\n",
       "  </tbody>\n",
       "</table>\n",
       "</div>"
      ],
      "text/plain": [
       "                                             vlrConsumoMWh\n",
       "nomClasseConsumo                                          \n",
       "Comercial, Serviços e Outras                    377.284783\n",
       "Consumo Próprio                                 389.480161\n",
       "Iluminação Pública                              245.860699\n",
       "Industrial                                      337.372043\n",
       "Poder Público                                   401.276452\n",
       "Residencial                                     399.725108\n",
       "Rural                                           290.290430\n",
       "Rural Aquicultor                                255.219915\n",
       "Rural Irrigante                                 244.985161\n",
       "Serviço Público                                 232.153431\n",
       "Serviço Público (tração elétrica)               324.471292\n",
       "Serviço Público (água, esgoto e saneamento)     368.674762\n",
       "Total por Região                                357.570292"
      ]
     },
     "metadata": {},
     "output_type": "display_data"
    }
   ],
   "source": [
    "# Tabela de valor de consumo por MW/h corrigida\n",
    "\n",
    "classe_filtro = enel[[\"nomClasseConsumo\",\"vlrConsumoMWh\"]].groupby('nomClasseConsumo').mean()\n",
    "display(classe_filtro)"
   ]
  },
  {
   "cell_type": "code",
   "execution_count": 24,
   "id": "3426927e",
   "metadata": {},
   "outputs": [
    {
     "data": {
      "image/png": "[encoded data removed]",
      "text/plain": [
       "<Figure size 504x504 with 1 Axes>"
      ]
     },
     "metadata": {
      "needs_background": "light"
     },
     "output_type": "display_data"
    }
   ],
   "source": [
    "# Com este último gráfico, pode se analisar que as maiores médias são do Poder Público e Residencial, enquanto as menores\n",
    "# são da iluminação pública e do serviço público\n",
    "\n",
    "larg = classe_filtro['vlrConsumoMWh']\n",
    "categorias = enel['nomClasseConsumo'].unique()\n",
    "\n",
    "plt.figure(figsize=(7,7))\n",
    "plt.title('Média de Consumo x Categoria')\n",
    "plt.barh(categorias,larg)\n",
    "\n",
    "plt.show()"
   ]
  },
  {
   "cell_type": "code",
   "execution_count": null,
   "id": "c282a583",
   "metadata": {},
   "outputs": [],
   "source": []
  }
 ],
 "metadata": {
  "kernelspec": {
   "display_name": "Python 3 (ipykernel)",
   "language": "python",
   "name": "python3"
  },
  "language_info": {
   "codemirror_mode": {
    "name": "ipython",
    "version": 3
   },
   "file_extension": ".py",
   "mimetype": "text/x-python",
   "name": "python",
   "nbconvert_exporter": "python",
   "pygments_lexer": "ipython3",
   "version": "3.9.7"
  }
 },
 "nbformat": 4,
 "nbformat_minor": 5
}
